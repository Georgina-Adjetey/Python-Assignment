{
 "cells": [
  {
   "cell_type": "markdown",
   "id": "36e02384",
   "metadata": {},
   "source": [
    "   \n",
    "  ### ASSIGNMENT SOLUTION"
   ]
  },
  {
   "cell_type": "code",
   "execution_count": 28,
   "id": "5fdff12c",
   "metadata": {},
   "outputs": [
    {
     "data": {
      "text/plain": [
       "'C:\\\\Users\\\\Gina'"
      ]
     },
     "execution_count": 28,
     "metadata": {},
     "output_type": "execute_result"
    }
   ],
   "source": [
    "%pwd"
   ]
  },
  {
   "cell_type": "code",
   "execution_count": 29,
   "id": "b296ee78",
   "metadata": {},
   "outputs": [],
   "source": [
    "import os"
   ]
  },
  {
   "cell_type": "code",
   "execution_count": null,
   "id": "1d9998c0",
   "metadata": {},
   "outputs": [],
   "source": []
  },
  {
   "cell_type": "markdown",
   "id": "b95e4869",
   "metadata": {},
   "source": [
    "###### QUESTION 1"
   ]
  },
  {
   "cell_type": "code",
   "execution_count": 1,
   "id": "7cedbd77",
   "metadata": {},
   "outputs": [],
   "source": [
    "list_1=['Attachment', 'Addiction']\n",
    "list_2=[20.4,2.4,9.8,15.2,18.1]\n",
    "list_3=[16,3,7,12,4]"
   ]
  },
  {
   "cell_type": "code",
   "execution_count": 2,
   "id": "27c48218",
   "metadata": {},
   "outputs": [
    {
     "data": {
      "text/plain": [
       "[['Attachment', 'Addiction'], [20.4, 2.4, 9.8, 15.2, 18.1], [16, 3, 7, 12, 4]]"
      ]
     },
     "execution_count": 2,
     "metadata": {},
     "output_type": "execute_result"
    }
   ],
   "source": [
    "Dtypes=[list_1,list_2,list_3]\n",
    "Dtypes"
   ]
  },
  {
   "cell_type": "markdown",
   "id": "cc90f411",
   "metadata": {},
   "source": [
    "##### QUESTION 2"
   ]
  },
  {
   "cell_type": "code",
   "execution_count": 3,
   "id": "b540cb57",
   "metadata": {},
   "outputs": [
    {
     "data": {
      "text/plain": [
       "[5, 7, 9, 11, 13, 15, 17, 19]"
      ]
     },
     "execution_count": 3,
     "metadata": {},
     "output_type": "execute_result"
    }
   ],
   "source": [
    "numbers=[5,7,9,11,13,15,17,19]\n",
    "numbers"
   ]
  },
  {
   "cell_type": "markdown",
   "id": "72676f0f",
   "metadata": {},
   "source": [
    "###### QUESTION 3"
   ]
  },
  {
   "cell_type": "code",
   "execution_count": 4,
   "id": "29d76b1f",
   "metadata": {},
   "outputs": [
    {
     "data": {
      "text/plain": [
       "(2, 4, 6, 8, 10, 12, 14, 16, 18, 20)"
      ]
     },
     "execution_count": 4,
     "metadata": {},
     "output_type": "execute_result"
    }
   ],
   "source": [
    "multiples_of_two=(2,4,6,8,10,12,14,16,18,20)\n",
    "multiples_of_two"
   ]
  },
  {
   "cell_type": "code",
   "execution_count": 5,
   "id": "c0fca672",
   "metadata": {},
   "outputs": [
    {
     "data": {
      "text/plain": [
       "(2, 4, 6, 8, 10, 12, 14, 16, 18, 20)"
      ]
     },
     "execution_count": 5,
     "metadata": {},
     "output_type": "execute_result"
    }
   ],
   "source": [
    "even=(multiples_of_two)\n",
    "even"
   ]
  },
  {
   "cell_type": "code",
   "execution_count": 6,
   "id": "a3395136",
   "metadata": {},
   "outputs": [
    {
     "name": "stdout",
     "output_type": "stream",
     "text": [
      "not even\n"
     ]
    }
   ],
   "source": [
    "if 5/3==even:\n",
    "    print('even')\n",
    "    \n",
    "else:\n",
    "    print('not even')"
   ]
  },
  {
   "cell_type": "code",
   "execution_count": 7,
   "id": "73eb2ea9",
   "metadata": {},
   "outputs": [
    {
     "name": "stdout",
     "output_type": "stream",
     "text": [
      "not even\n"
     ]
    }
   ],
   "source": [
    "if 7/3==even:\n",
    "    print('even')\n",
    "    \n",
    "else:\n",
    "    print('not even')"
   ]
  },
  {
   "cell_type": "code",
   "execution_count": 8,
   "id": "4f21d02a",
   "metadata": {},
   "outputs": [
    {
     "name": "stdout",
     "output_type": "stream",
     "text": [
      "not even\n"
     ]
    }
   ],
   "source": [
    "if 9/3==even:\n",
    "    print('even')\n",
    "    \n",
    "else:\n",
    "    print('not even')"
   ]
  },
  {
   "cell_type": "code",
   "execution_count": 9,
   "id": "83233381",
   "metadata": {},
   "outputs": [
    {
     "name": "stdout",
     "output_type": "stream",
     "text": [
      "not even\n"
     ]
    }
   ],
   "source": [
    "if 11/3==even:\n",
    "    print('even')\n",
    "    \n",
    "else:\n",
    "    print('not even')"
   ]
  },
  {
   "cell_type": "code",
   "execution_count": 10,
   "id": "1257d885",
   "metadata": {},
   "outputs": [
    {
     "name": "stdout",
     "output_type": "stream",
     "text": [
      "not even\n"
     ]
    }
   ],
   "source": [
    "if 13/3==even:\n",
    "    print('even')\n",
    "    \n",
    "else:\n",
    "    print('not even')"
   ]
  },
  {
   "cell_type": "markdown",
   "id": "e3d06b8f",
   "metadata": {},
   "source": [
    "##### QUESTION 4"
   ]
  },
  {
   "cell_type": "code",
   "execution_count": 23,
   "id": "dd3e4d6b",
   "metadata": {},
   "outputs": [
    {
     "name": "stdout",
     "output_type": "stream",
     "text": [
      "ADA is 30km from Accra\n"
     ]
    }
   ],
   "source": [
    "ADA=30\n",
    "print(\"ADA is 30km from Accra\")"
   ]
  },
  {
   "cell_type": "markdown",
   "id": "0d2b96c0",
   "metadata": {},
   "source": [
    "##### QUESTION 5"
   ]
  },
  {
   "cell_type": "code",
   "execution_count": 12,
   "id": "ab5bc980",
   "metadata": {},
   "outputs": [],
   "source": [
    "Boolean=[False,True]\n",
    "Integer=[24,15,20,23,40,32,48]\n",
    "Strings=['Books','Phones','Gh-Cedi','Food','Job','Shelter','Laptop','54m']\n",
    "Floats=[10.5,7.5,9.0]"
   ]
  },
  {
   "cell_type": "code",
   "execution_count": 13,
   "id": "6271a425",
   "metadata": {},
   "outputs": [
    {
     "data": {
      "text/plain": [
       "[[False, True],\n",
       " [24, 15, 20, 23, 40, 32, 48],\n",
       " ['Books', 'Phones', 'Gh-Cedi', 'Food', 'Job', 'Shelter', 'Laptop', '54m'],\n",
       " [10.5, 7.5, 9.0]]"
      ]
     },
     "execution_count": 13,
     "metadata": {},
     "output_type": "execute_result"
    }
   ],
   "source": [
    "Essential=[Boolean,Integer,Strings,Floats]\n",
    "Essential"
   ]
  },
  {
   "cell_type": "code",
   "execution_count": 14,
   "id": "3ffae4a2",
   "metadata": {},
   "outputs": [
    {
     "data": {
      "text/plain": [
       "list"
      ]
     },
     "execution_count": 14,
     "metadata": {},
     "output_type": "execute_result"
    }
   ],
   "source": [
    "type(Essential)"
   ]
  },
  {
   "cell_type": "code",
   "execution_count": 2,
   "id": "62ee40cf",
   "metadata": {},
   "outputs": [],
   "source": [
    "Essential=[False,24,'Books','Phone',10.5,'Gh-Cedi','Laptop',True,'Shelter','Food',15,'Job','54m','20','7.5','23',40,9.0,32,48]"
   ]
  },
  {
   "cell_type": "markdown",
   "id": "d9f63b06",
   "metadata": {},
   "source": [
    "###### QUESTION 6"
   ]
  },
  {
   "cell_type": "code",
   "execution_count": 16,
   "id": "8d1fb4d9",
   "metadata": {},
   "outputs": [
    {
     "data": {
      "text/plain": [
       "8"
      ]
     },
     "execution_count": 16,
     "metadata": {},
     "output_type": "execute_result"
    }
   ],
   "source": [
    "index=Essential.index('Shelter')\n",
    "index"
   ]
  },
  {
   "cell_type": "code",
   "execution_count": 17,
   "id": "4683b8d1",
   "metadata": {},
   "outputs": [
    {
     "data": {
      "text/plain": [
       "13"
      ]
     },
     "execution_count": 17,
     "metadata": {},
     "output_type": "execute_result"
    }
   ],
   "source": [
    "index=Essential.index('20')\n",
    "index"
   ]
  },
  {
   "cell_type": "code",
   "execution_count": 6,
   "id": "807c5b5f",
   "metadata": {},
   "outputs": [],
   "source": [
    "  del Essential[15]"
   ]
  },
  {
   "cell_type": "code",
   "execution_count": 7,
   "id": "3dbe43a8",
   "metadata": {},
   "outputs": [
    {
     "name": "stdout",
     "output_type": "stream",
     "text": [
      "[False, 24, 'Books', 'Phone', 10.5, 'Gh-Cedi', 'Laptop', True, 'Shelter', 'Food', 15, 'Job', '54m', '20', '7.5', 32, 48]\n"
     ]
    }
   ],
   "source": [
    "print (Essential)"
   ]
  },
  {
   "cell_type": "code",
   "execution_count": null,
   "id": "7ee297fa",
   "metadata": {},
   "outputs": [],
   "source": []
  }
 ],
 "metadata": {
  "kernelspec": {
   "display_name": "Python 3 (ipykernel)",
   "language": "python",
   "name": "python3"
  },
  "language_info": {
   "codemirror_mode": {
    "name": "ipython",
    "version": 3
   },
   "file_extension": ".py",
   "mimetype": "text/x-python",
   "name": "python",
   "nbconvert_exporter": "python",
   "pygments_lexer": "ipython3",
   "version": "3.9.7"
  }
 },
 "nbformat": 4,
 "nbformat_minor": 5
}
